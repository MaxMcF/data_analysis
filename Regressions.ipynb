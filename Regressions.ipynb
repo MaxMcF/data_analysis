{
 "cells": [
  {
   "cell_type": "code",
   "execution_count": 6,
   "metadata": {},
   "outputs": [],
   "source": [
    "import pandas as pd\n",
    "import numpy as np\n",
    "import datetime as dt\n",
    "import os\n",
    "import plotly\n",
    "import plotly.plotly as py\n",
    "import plotly.graph_objs as go\n",
    "plotly.tools.set_credentials_file(username='MaxMcF', api_key=os.environ['PY_API'])\n",
    "import requests\n",
    "import json"
   ]
  },
  {
   "cell_type": "code",
   "execution_count": 14,
   "metadata": {},
   "outputs": [],
   "source": [
    "r = requests.get('https://api.iextrading.com/1.0/stock/MSFT/chart/5y')"
   ]
  },
  {
   "cell_type": "code",
   "execution_count": 15,
   "metadata": {},
   "outputs": [],
   "source": [
    "json_data = json.dumps(r.json())"
   ]
  },
  {
   "cell_type": "code",
   "execution_count": 16,
   "metadata": {},
   "outputs": [],
   "source": [
    "pandas_df = pd.read_json(json_data)"
   ]
  },
  {
   "cell_type": "code",
   "execution_count": 17,
   "metadata": {},
   "outputs": [
    {
     "data": {
      "text/html": [
       "<div>\n",
       "<style scoped>\n",
       "    .dataframe tbody tr th:only-of-type {\n",
       "        vertical-align: middle;\n",
       "    }\n",
       "\n",
       "    .dataframe tbody tr th {\n",
       "        vertical-align: top;\n",
       "    }\n",
       "\n",
       "    .dataframe thead th {\n",
       "        text-align: right;\n",
       "    }\n",
       "</style>\n",
       "<table border=\"1\" class=\"dataframe\">\n",
       "  <thead>\n",
       "    <tr style=\"text-align: right;\">\n",
       "      <th></th>\n",
       "      <th>change</th>\n",
       "      <th>changeOverTime</th>\n",
       "      <th>changePercent</th>\n",
       "      <th>close</th>\n",
       "      <th>date</th>\n",
       "      <th>high</th>\n",
       "      <th>label</th>\n",
       "      <th>low</th>\n",
       "      <th>open</th>\n",
       "      <th>unadjustedVolume</th>\n",
       "      <th>volume</th>\n",
       "      <th>vwap</th>\n",
       "    </tr>\n",
       "  </thead>\n",
       "  <tbody>\n",
       "    <tr>\n",
       "      <th>0</th>\n",
       "      <td>-0.605457</td>\n",
       "      <td>0.000000</td>\n",
       "      <td>-2.149</td>\n",
       "      <td>27.5726</td>\n",
       "      <td>2013-09-04</td>\n",
       "      <td>27.8156</td>\n",
       "      <td>Sep 4, 13</td>\n",
       "      <td>27.4974</td>\n",
       "      <td>27.7449</td>\n",
       "      <td>142273577</td>\n",
       "      <td>142273577</td>\n",
       "      <td>27.6358</td>\n",
       "    </tr>\n",
       "    <tr>\n",
       "      <th>1</th>\n",
       "      <td>0.035355</td>\n",
       "      <td>0.001280</td>\n",
       "      <td>0.128</td>\n",
       "      <td>27.6079</td>\n",
       "      <td>2013-09-05</td>\n",
       "      <td>27.7891</td>\n",
       "      <td>Sep 5, 13</td>\n",
       "      <td>27.3560</td>\n",
       "      <td>27.4886</td>\n",
       "      <td>71623991</td>\n",
       "      <td>71623991</td>\n",
       "      <td>27.6561</td>\n",
       "    </tr>\n",
       "    <tr>\n",
       "      <th>2</th>\n",
       "      <td>-0.073362</td>\n",
       "      <td>-0.001378</td>\n",
       "      <td>-0.266</td>\n",
       "      <td>27.5346</td>\n",
       "      <td>2013-09-06</td>\n",
       "      <td>27.7449</td>\n",
       "      <td>Sep 6, 13</td>\n",
       "      <td>27.5151</td>\n",
       "      <td>27.6742</td>\n",
       "      <td>75436430</td>\n",
       "      <td>75436430</td>\n",
       "      <td>27.6186</td>\n",
       "    </tr>\n",
       "    <tr>\n",
       "      <th>3</th>\n",
       "      <td>0.444590</td>\n",
       "      <td>0.014743</td>\n",
       "      <td>1.615</td>\n",
       "      <td>27.9791</td>\n",
       "      <td>2013-09-09</td>\n",
       "      <td>28.0985</td>\n",
       "      <td>Sep 9, 13</td>\n",
       "      <td>27.5770</td>\n",
       "      <td>27.5954</td>\n",
       "      <td>49610584</td>\n",
       "      <td>49610584</td>\n",
       "      <td>27.8653</td>\n",
       "    </tr>\n",
       "    <tr>\n",
       "      <th>4</th>\n",
       "      <td>0.649653</td>\n",
       "      <td>0.038306</td>\n",
       "      <td>2.322</td>\n",
       "      <td>28.6288</td>\n",
       "      <td>2013-09-10</td>\n",
       "      <td>28.6376</td>\n",
       "      <td>Sep 10, 13</td>\n",
       "      <td>28.0985</td>\n",
       "      <td>28.1957</td>\n",
       "      <td>56881864</td>\n",
       "      <td>56881864</td>\n",
       "      <td>28.4986</td>\n",
       "    </tr>\n",
       "  </tbody>\n",
       "</table>\n",
       "</div>"
      ],
      "text/plain": [
       "     change  changeOverTime  changePercent    close       date     high  \\\n",
       "0 -0.605457        0.000000         -2.149  27.5726 2013-09-04  27.8156   \n",
       "1  0.035355        0.001280          0.128  27.6079 2013-09-05  27.7891   \n",
       "2 -0.073362       -0.001378         -0.266  27.5346 2013-09-06  27.7449   \n",
       "3  0.444590        0.014743          1.615  27.9791 2013-09-09  28.0985   \n",
       "4  0.649653        0.038306          2.322  28.6288 2013-09-10  28.6376   \n",
       "\n",
       "        label      low     open  unadjustedVolume     volume     vwap  \n",
       "0   Sep 4, 13  27.4974  27.7449         142273577  142273577  27.6358  \n",
       "1   Sep 5, 13  27.3560  27.4886          71623991   71623991  27.6561  \n",
       "2   Sep 6, 13  27.5151  27.6742          75436430   75436430  27.6186  \n",
       "3   Sep 9, 13  27.5770  27.5954          49610584   49610584  27.8653  \n",
       "4  Sep 10, 13  28.0985  28.1957          56881864   56881864  28.4986  "
      ]
     },
     "execution_count": 17,
     "metadata": {},
     "output_type": "execute_result"
    }
   ],
   "source": [
    "pandas_df.head()"
   ]
  },
  {
   "cell_type": "code",
   "execution_count": 18,
   "metadata": {},
   "outputs": [],
   "source": [
    "pandas_df.date = pd.to_datetime(pandas_df.date)"
   ]
  },
  {
   "cell_type": "code",
   "execution_count": 19,
   "metadata": {},
   "outputs": [],
   "source": [
    "data = [go.Scatter(x=pandas_df.date, y=pandas_df.close)]"
   ]
  },
  {
   "cell_type": "code",
   "execution_count": 20,
   "metadata": {},
   "outputs": [
    {
     "data": {
      "text/html": [
       "<iframe id=\"igraph\" scrolling=\"no\" style=\"border:none;\" seamless=\"seamless\" src=\"https://plot.ly/~MaxMcF/2.embed\" height=\"525px\" width=\"100%\"></iframe>"
      ],
      "text/plain": [
       "<plotly.tools.PlotlyDisplay object>"
      ]
     },
     "execution_count": 20,
     "metadata": {},
     "output_type": "execute_result"
    }
   ],
   "source": [
    "py.iplot(data)"
   ]
  },
  {
   "cell_type": "code",
   "execution_count": null,
   "metadata": {},
   "outputs": [],
   "source": []
  }
 ],
 "metadata": {
  "kernelspec": {
   "display_name": "Python 3",
   "language": "python",
   "name": "python3"
  },
  "language_info": {
   "codemirror_mode": {
    "name": "ipython",
    "version": 3
   },
   "file_extension": ".py",
   "mimetype": "text/x-python",
   "name": "python",
   "nbconvert_exporter": "python",
   "pygments_lexer": "ipython3",
   "version": "3.7.0"
  }
 },
 "nbformat": 4,
 "nbformat_minor": 2
}
