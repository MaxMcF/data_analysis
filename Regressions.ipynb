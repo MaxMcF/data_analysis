{
 "cells": [
  {
   "cell_type": "code",
   "execution_count": 1,
   "metadata": {},
   "outputs": [],
   "source": [
    "import pandas as pd\n",
    "import numpy as np\n",
    "import datetime as dt\n",
    "import requests\n",
    "import json\n",
    "import matplotlib\n",
    "import matplotlib.pyplot as plt\n",
    "import numpy.polynomial.polynomial as poly\n",
    "from sklearn.model_selection import train_test_split\n",
    "from sklearn.metrics import mean_squared_error\n",
    "\n",
    "%matplotlib inline\n",
    "\n",
    "matplotlib.rcParams['figure.figsize'] = (100, 80)\n",
    "matplotlib.rcParams['figure.dpi'] = 800"
   ]
  },
  {
   "cell_type": "code",
   "execution_count": 2,
   "metadata": {},
   "outputs": [],
   "source": [
    "r = requests.get('https://api.iextrading.com/1.0/stock/shld/chart/5y')"
   ]
  },
  {
   "cell_type": "code",
   "execution_count": 3,
   "metadata": {},
   "outputs": [],
   "source": [
    "json_data = json.dumps(r.json())"
   ]
  },
  {
   "cell_type": "code",
   "execution_count": 4,
   "metadata": {},
   "outputs": [],
   "source": [
    "pandas_df = pd.read_json(json_data)"
   ]
  },
  {
   "cell_type": "code",
   "execution_count": 5,
   "metadata": {},
   "outputs": [
    {
     "data": {
      "text/html": [
       "<div>\n",
       "<style scoped>\n",
       "    .dataframe tbody tr th:only-of-type {\n",
       "        vertical-align: middle;\n",
       "    }\n",
       "\n",
       "    .dataframe tbody tr th {\n",
       "        vertical-align: top;\n",
       "    }\n",
       "\n",
       "    .dataframe thead th {\n",
       "        text-align: right;\n",
       "    }\n",
       "</style>\n",
       "<table border=\"1\" class=\"dataframe\">\n",
       "  <thead>\n",
       "    <tr style=\"text-align: right;\">\n",
       "      <th></th>\n",
       "      <th>change</th>\n",
       "      <th>changeOverTime</th>\n",
       "      <th>changePercent</th>\n",
       "      <th>close</th>\n",
       "      <th>date</th>\n",
       "      <th>high</th>\n",
       "      <th>label</th>\n",
       "      <th>low</th>\n",
       "      <th>open</th>\n",
       "      <th>unadjustedVolume</th>\n",
       "      <th>volume</th>\n",
       "      <th>vwap</th>\n",
       "    </tr>\n",
       "  </thead>\n",
       "  <tbody>\n",
       "    <tr>\n",
       "      <th>0</th>\n",
       "      <td>0.290</td>\n",
       "      <td>0.000000</td>\n",
       "      <td>0.647</td>\n",
       "      <td>45.130</td>\n",
       "      <td>2013-09-04</td>\n",
       "      <td>46.17</td>\n",
       "      <td>Sep 4, 13</td>\n",
       "      <td>44.390</td>\n",
       "      <td>44.8200</td>\n",
       "      <td>1175640</td>\n",
       "      <td>1175640</td>\n",
       "      <td>45.2946</td>\n",
       "    </tr>\n",
       "    <tr>\n",
       "      <th>1</th>\n",
       "      <td>2.830</td>\n",
       "      <td>0.062708</td>\n",
       "      <td>6.271</td>\n",
       "      <td>47.960</td>\n",
       "      <td>2013-09-05</td>\n",
       "      <td>49.05</td>\n",
       "      <td>Sep 5, 13</td>\n",
       "      <td>44.555</td>\n",
       "      <td>44.5800</td>\n",
       "      <td>1840980</td>\n",
       "      <td>1840980</td>\n",
       "      <td>47.2321</td>\n",
       "    </tr>\n",
       "    <tr>\n",
       "      <th>2</th>\n",
       "      <td>-0.910</td>\n",
       "      <td>0.042544</td>\n",
       "      <td>-1.897</td>\n",
       "      <td>47.050</td>\n",
       "      <td>2013-09-06</td>\n",
       "      <td>48.40</td>\n",
       "      <td>Sep 6, 13</td>\n",
       "      <td>46.330</td>\n",
       "      <td>48.4000</td>\n",
       "      <td>902129</td>\n",
       "      <td>902129</td>\n",
       "      <td>47.1968</td>\n",
       "    </tr>\n",
       "    <tr>\n",
       "      <th>3</th>\n",
       "      <td>6.019</td>\n",
       "      <td>0.175914</td>\n",
       "      <td>12.793</td>\n",
       "      <td>53.069</td>\n",
       "      <td>2013-09-09</td>\n",
       "      <td>55.24</td>\n",
       "      <td>Sep 9, 13</td>\n",
       "      <td>47.030</td>\n",
       "      <td>47.0300</td>\n",
       "      <td>2900745</td>\n",
       "      <td>2900745</td>\n",
       "      <td>51.8134</td>\n",
       "    </tr>\n",
       "    <tr>\n",
       "      <th>4</th>\n",
       "      <td>3.571</td>\n",
       "      <td>0.255041</td>\n",
       "      <td>6.729</td>\n",
       "      <td>56.640</td>\n",
       "      <td>2013-09-10</td>\n",
       "      <td>59.24</td>\n",
       "      <td>Sep 10, 13</td>\n",
       "      <td>52.900</td>\n",
       "      <td>53.0201</td>\n",
       "      <td>3778080</td>\n",
       "      <td>3778080</td>\n",
       "      <td>56.5896</td>\n",
       "    </tr>\n",
       "  </tbody>\n",
       "</table>\n",
       "</div>"
      ],
      "text/plain": [
       "   change  changeOverTime  changePercent   close       date   high  \\\n",
       "0   0.290        0.000000          0.647  45.130 2013-09-04  46.17   \n",
       "1   2.830        0.062708          6.271  47.960 2013-09-05  49.05   \n",
       "2  -0.910        0.042544         -1.897  47.050 2013-09-06  48.40   \n",
       "3   6.019        0.175914         12.793  53.069 2013-09-09  55.24   \n",
       "4   3.571        0.255041          6.729  56.640 2013-09-10  59.24   \n",
       "\n",
       "        label     low     open  unadjustedVolume   volume     vwap  \n",
       "0   Sep 4, 13  44.390  44.8200           1175640  1175640  45.2946  \n",
       "1   Sep 5, 13  44.555  44.5800           1840980  1840980  47.2321  \n",
       "2   Sep 6, 13  46.330  48.4000            902129   902129  47.1968  \n",
       "3   Sep 9, 13  47.030  47.0300           2900745  2900745  51.8134  \n",
       "4  Sep 10, 13  52.900  53.0201           3778080  3778080  56.5896  "
      ]
     },
     "execution_count": 5,
     "metadata": {},
     "output_type": "execute_result"
    }
   ],
   "source": [
    "pandas_df.head()"
   ]
  },
  {
   "cell_type": "code",
   "execution_count": 6,
   "metadata": {},
   "outputs": [],
   "source": [
    "pandas_df.date = pd.to_datetime(pandas_df.date)"
   ]
  },
  {
   "cell_type": "code",
   "execution_count": 7,
   "metadata": {},
   "outputs": [],
   "source": [
    "pandas_df.date = pandas_df['date'].map(dt.datetime.toordinal)"
   ]
  },
  {
   "cell_type": "code",
   "execution_count": 8,
   "metadata": {},
   "outputs": [
    {
     "data": {
      "text/html": [
       "<div>\n",
       "<style scoped>\n",
       "    .dataframe tbody tr th:only-of-type {\n",
       "        vertical-align: middle;\n",
       "    }\n",
       "\n",
       "    .dataframe tbody tr th {\n",
       "        vertical-align: top;\n",
       "    }\n",
       "\n",
       "    .dataframe thead th {\n",
       "        text-align: right;\n",
       "    }\n",
       "</style>\n",
       "<table border=\"1\" class=\"dataframe\">\n",
       "  <thead>\n",
       "    <tr style=\"text-align: right;\">\n",
       "      <th></th>\n",
       "      <th>change</th>\n",
       "      <th>changeOverTime</th>\n",
       "      <th>changePercent</th>\n",
       "      <th>close</th>\n",
       "      <th>date</th>\n",
       "      <th>high</th>\n",
       "      <th>label</th>\n",
       "      <th>low</th>\n",
       "      <th>open</th>\n",
       "      <th>unadjustedVolume</th>\n",
       "      <th>volume</th>\n",
       "      <th>vwap</th>\n",
       "    </tr>\n",
       "  </thead>\n",
       "  <tbody>\n",
       "    <tr>\n",
       "      <th>0</th>\n",
       "      <td>0.290</td>\n",
       "      <td>0.000000</td>\n",
       "      <td>0.647</td>\n",
       "      <td>45.130</td>\n",
       "      <td>735115</td>\n",
       "      <td>46.17</td>\n",
       "      <td>Sep 4, 13</td>\n",
       "      <td>44.390</td>\n",
       "      <td>44.8200</td>\n",
       "      <td>1175640</td>\n",
       "      <td>1175640</td>\n",
       "      <td>45.2946</td>\n",
       "    </tr>\n",
       "    <tr>\n",
       "      <th>1</th>\n",
       "      <td>2.830</td>\n",
       "      <td>0.062708</td>\n",
       "      <td>6.271</td>\n",
       "      <td>47.960</td>\n",
       "      <td>735116</td>\n",
       "      <td>49.05</td>\n",
       "      <td>Sep 5, 13</td>\n",
       "      <td>44.555</td>\n",
       "      <td>44.5800</td>\n",
       "      <td>1840980</td>\n",
       "      <td>1840980</td>\n",
       "      <td>47.2321</td>\n",
       "    </tr>\n",
       "    <tr>\n",
       "      <th>2</th>\n",
       "      <td>-0.910</td>\n",
       "      <td>0.042544</td>\n",
       "      <td>-1.897</td>\n",
       "      <td>47.050</td>\n",
       "      <td>735117</td>\n",
       "      <td>48.40</td>\n",
       "      <td>Sep 6, 13</td>\n",
       "      <td>46.330</td>\n",
       "      <td>48.4000</td>\n",
       "      <td>902129</td>\n",
       "      <td>902129</td>\n",
       "      <td>47.1968</td>\n",
       "    </tr>\n",
       "    <tr>\n",
       "      <th>3</th>\n",
       "      <td>6.019</td>\n",
       "      <td>0.175914</td>\n",
       "      <td>12.793</td>\n",
       "      <td>53.069</td>\n",
       "      <td>735120</td>\n",
       "      <td>55.24</td>\n",
       "      <td>Sep 9, 13</td>\n",
       "      <td>47.030</td>\n",
       "      <td>47.0300</td>\n",
       "      <td>2900745</td>\n",
       "      <td>2900745</td>\n",
       "      <td>51.8134</td>\n",
       "    </tr>\n",
       "    <tr>\n",
       "      <th>4</th>\n",
       "      <td>3.571</td>\n",
       "      <td>0.255041</td>\n",
       "      <td>6.729</td>\n",
       "      <td>56.640</td>\n",
       "      <td>735121</td>\n",
       "      <td>59.24</td>\n",
       "      <td>Sep 10, 13</td>\n",
       "      <td>52.900</td>\n",
       "      <td>53.0201</td>\n",
       "      <td>3778080</td>\n",
       "      <td>3778080</td>\n",
       "      <td>56.5896</td>\n",
       "    </tr>\n",
       "  </tbody>\n",
       "</table>\n",
       "</div>"
      ],
      "text/plain": [
       "   change  changeOverTime  changePercent   close    date   high       label  \\\n",
       "0   0.290        0.000000          0.647  45.130  735115  46.17   Sep 4, 13   \n",
       "1   2.830        0.062708          6.271  47.960  735116  49.05   Sep 5, 13   \n",
       "2  -0.910        0.042544         -1.897  47.050  735117  48.40   Sep 6, 13   \n",
       "3   6.019        0.175914         12.793  53.069  735120  55.24   Sep 9, 13   \n",
       "4   3.571        0.255041          6.729  56.640  735121  59.24  Sep 10, 13   \n",
       "\n",
       "      low     open  unadjustedVolume   volume     vwap  \n",
       "0  44.390  44.8200           1175640  1175640  45.2946  \n",
       "1  44.555  44.5800           1840980  1840980  47.2321  \n",
       "2  46.330  48.4000            902129   902129  47.1968  \n",
       "3  47.030  47.0300           2900745  2900745  51.8134  \n",
       "4  52.900  53.0201           3778080  3778080  56.5896  "
      ]
     },
     "execution_count": 8,
     "metadata": {},
     "output_type": "execute_result"
    }
   ],
   "source": [
    "pandas_df.head()"
   ]
  },
  {
   "cell_type": "code",
   "execution_count": 9,
   "metadata": {},
   "outputs": [],
   "source": [
    "X_train, X_test, Y_train, Y_test = train_test_split(pandas_df.date, pandas_df.close, test_size=0.2, random_state=42)"
   ]
  },
  {
   "cell_type": "code",
   "execution_count": 10,
   "metadata": {},
   "outputs": [
    {
     "data": {
      "text/plain": [
       "Text(0.5,1,'Training Set')"
      ]
     },
     "execution_count": 10,
     "metadata": {},
     "output_type": "execute_result"
    },
    {
     "data": {
      "image/png": "[encoded data removed]",
      "text/plain": [
       "<Figure size 432x288 with 1 Axes>"
      ]
     },
     "metadata": {
      "needs_background": "light"
     },
     "output_type": "display_data"
    }
   ],
   "source": [
    "plt.plot(X_train, Y_train, 'bo', markersize=1)\n",
    "plt.title(\"Training Set\")"
   ]
  },
  {
   "cell_type": "code",
   "execution_count": 11,
   "metadata": {},
   "outputs": [
    {
     "data": {
      "text/plain": [
       "Text(0.5,1,'Test Set')"
      ]
     },
     "execution_count": 11,
     "metadata": {},
     "output_type": "execute_result"
    },
    {
     "data": {
      "image/png": "[encoded data removed]",
      "text/plain": [
       "<Figure size 432x288 with 1 Axes>"
      ]
     },
     "metadata": {
      "needs_background": "light"
     },
     "output_type": "display_data"
    }
   ],
   "source": [
    "plt.plot(X_test, Y_test, 'bo', markersize=1)\n",
    "plt.title(\"Test Set\")"
   ]
  },
  {
   "cell_type": "code",
   "execution_count": 12,
   "metadata": {},
   "outputs": [
    {
     "name": "stderr",
     "output_type": "stream",
     "text": [
      "/Users/admin/.local/share/virtualenvs/data_analysis-TBJe_GYa/lib/python3.7/site-packages/numpy/polynomial/polynomial.py:1477: RuntimeWarning: overflow encountered in square\n",
      "  scl = np.sqrt(np.square(lhs).sum(1))\n",
      "/Users/admin/.local/share/virtualenvs/data_analysis-TBJe_GYa/lib/python3.7/site-packages/ipykernel_launcher.py:3: RankWarning: The fit may be poorly conditioned\n",
      "  This is separate from the ipykernel package so we can avoid doing imports until\n"
     ]
    }
   ],
   "source": [
    "coef_lin = poly.polyfit(X_train, Y_train, 1)\n",
    "coef_sq = poly.polyfit(X_train, Y_train, 2)\n",
    "coef_cube = poly.polyfit(X_train, Y_train, 40)"
   ]
  },
  {
   "cell_type": "code",
   "execution_count": 13,
   "metadata": {},
   "outputs": [],
   "source": [
    "X_line = np.linspace(735115, 737000, 10000)\n",
    "\n",
    "ffit_lin = poly.polyval(X_line, coef_lin)\n",
    "ffit_sq = poly.polyval(X_line, coef_sq)\n",
    "ffit_poly = poly.polyval(X_line, coef_cube)"
   ]
  },
  {
   "cell_type": "code",
   "execution_count": 14,
   "metadata": {
    "scrolled": false
   },
   "outputs": [
    {
     "data": {
      "text/plain": [
       "[<matplotlib.lines.Line2D at 0x11a389f28>]"
      ]
     },
     "execution_count": 14,
     "metadata": {},
     "output_type": "execute_result"
    },
    {
     "data": {
      "image/png": "[encoded data removed]",
      "text/plain": [
       "<Figure size 432x288 with 1 Axes>"
      ]
     },
     "metadata": {
      "needs_background": "light"
     },
     "output_type": "display_data"
    }
   ],
   "source": [
    "plt.ylim(min(Y_train - 10), max(Y_train + 10))\n",
    "\n",
    "plt.plot(X_line, ffit_lin, 'g')\n",
    "plt.plot(X_line, ffit_sq, 'y')\n",
    "plt.plot(X_line, ffit_poly, 'r')\n",
    "\n",
    "plt.plot(X_train, Y_train, 'b.', markersize=1)"
   ]
  },
  {
   "cell_type": "code",
   "execution_count": null,
   "metadata": {},
   "outputs": [],
   "source": []
  },
  {
   "cell_type": "code",
   "execution_count": null,
   "metadata": {},
   "outputs": [],
   "source": []
  }
 ],
 "metadata": {
  "kernelspec": {
   "display_name": "Python 3",
   "language": "python",
   "name": "python3"
  },
  "language_info": {
   "codemirror_mode": {
    "name": "ipython",
    "version": 3
   },
   "file_extension": ".py",
   "mimetype": "text/x-python",
   "name": "python",
   "nbconvert_exporter": "python",
   "pygments_lexer": "ipython3",
   "version": "3.7.0"
  }
 },
 "nbformat": 4,
 "nbformat_minor": 2
}
